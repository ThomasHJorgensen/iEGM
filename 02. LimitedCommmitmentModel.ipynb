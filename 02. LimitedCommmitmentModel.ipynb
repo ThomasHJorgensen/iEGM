{
 "cells": [
  {
   "cell_type": "code",
   "execution_count": 61,
   "metadata": {},
   "outputs": [
    {
     "name": "stdout",
     "output_type": "stream",
     "text": [
      "The autoreload extension is already loaded. To reload it, use:\n",
      "  %reload_ext autoreload\n",
      "The line_profiler extension is already loaded. To reload it, use:\n",
      "  %reload_ext line_profiler\n"
     ]
    }
   ],
   "source": [
    "%load_ext autoreload\n",
    "%load_ext line_profiler\n",
    "%autoreload 2\n",
    "\n",
    "import numpy as np\n",
    "from mpl_toolkits import mplot3d\n",
    "import matplotlib\n",
    "import matplotlib.pyplot as plt\n",
    "import scipy.optimize as optimize\n",
    "import pickle\n",
    "from time import time\n",
    "\n",
    "from consav import linear_interp\n",
    "\n",
    "import LimitedCommitmentModel as lcm\n",
    "\n",
    "# plot style\n",
    "linestyles = ['-','--','-.',':',':']\n",
    "markers = ['o','s','D','*','P']\n",
    "linewidth = 2\n",
    "font_size = 17\n",
    "font = {'size':font_size}\n",
    "matplotlib.rc('font', **font)\n",
    "\n",
    "plt.rcParams.update({'figure.max_open_warning': 0,'text.usetex': False})\n",
    "path = 'output/'\n",
    "\n",
    "# c++ settings\n",
    "do_cpp = True\n",
    "do_compile = True\n",
    "do_egm = True\n",
    "threads = 24\n",
    "\n",
    "# from EconModel import cpptools\n",
    "# cpptools.setup_nlopt(folder='cppfuncs/', do_print=True)"
   ]
  },
  {
   "cell_type": "code",
   "execution_count": 62,
   "metadata": {},
   "outputs": [],
   "source": [
    "# compile c++ files\n",
    "if do_cpp & do_compile:\n",
    "    model = lcm.HouseholdModelClass(par={'do_cpp':do_cpp,'num_Ctot':100})\n",
    "    model.link_to_cpp(force_compile=do_compile)\n",
    "    model.cpp.delink()"
   ]
  },
  {
   "cell_type": "markdown",
   "metadata": {},
   "source": [
    "# Solve and simulate from alternative models"
   ]
  },
  {
   "cell_type": "code",
   "execution_count": 63,
   "metadata": {},
   "outputs": [],
   "source": [
    "# settings for models to solve\n",
    "T = 20\n",
    "sigma = 0.1\n",
    "num_love = 41\n",
    "num_A = 50\n",
    "num_A_pd = 50\n",
    "\n",
    "uniform_mat = np.ones((num_A,num_A))/num_A\n",
    "\n",
    "settings = {\n",
    "       'p_meet': 0.1, \n",
    "       'div_A_share': 0.5, \n",
    "       'sigma_love':sigma,\n",
    "       'T':T,'do_cpp':do_cpp,\n",
    "       'threads':threads, \n",
    "       'interp_power':False,\n",
    "       'num_love': num_love, \n",
    "       'do_egm':True, \n",
    "       'num_A': num_A_pd, \n",
    "       'num_A_pd':num_A_pd,\n",
    "       'num_Ctot':50,\n",
    "       'simT':T,\n",
    "       'simN': 500,\n",
    "       }\n",
    "\n",
    "\n",
    "solution_specs = {'solution': {'latexname':'Solution', 'par':{**settings, 'do_egm':True, 'num_A': 500, 'num_A_pd': 500, 'num_Ctot':500, 'num_power':101, 'num_love':201}}}\n",
    "\n",
    "num_margu = 15\n",
    "\n",
    "specs = {\n",
    "    'model 1':{'latexname':'VFI', 'par':{**settings, 'use_external_solution':True, 'do_egm':False}},\n",
    "    'model 2':{'latexname':f'iEGM c{num_margu} linear', 'par':{**settings, 'use_external_solution':True, 'num_marg_u':num_margu}},\n",
    "    'model 3':{'latexname':'iEGM c100 linear', 'par':{**settings, 'use_external_solution':True, 'num_marg_u':100}},\n",
    "    'model 4':{'latexname':f'iEGM c{num_margu}, linear inverse', 'par':{**settings, 'use_external_solution':True, 'num_marg_u':num_margu, 'interp_inverse': True}},\n",
    "    'model 5':{'latexname':'iEGM c100 linear inverse', 'par':{**settings, 'use_external_solution':True, 'num_marg_u':100, 'interp_inverse': True}},\n",
    "    }\n",
    "\n",
    "\n"
   ]
  },
  {
   "cell_type": "code",
   "execution_count": 64,
   "metadata": {},
   "outputs": [
    {
     "name": "stdout",
     "output_type": "stream",
     "text": [
      "Loaded solution margVs\n"
     ]
    }
   ],
   "source": [
    "# solve/load solution Marginal values\n",
    "do_load = True\n",
    "do_save = False\n",
    "do_solve = False\n",
    "\n",
    "if do_solve:\n",
    "    model_solution = lcm.HouseholdModelClass(par=solution_specs['solution']['par'])\n",
    "\n",
    "    print('Linking to c++')\n",
    "    model_solution.link_to_cpp(force_compile=False)\n",
    "\n",
    "    print('Solving solution model')\n",
    "    %time model_solution.solve()\n",
    "\n",
    "    EmargV_start_as_couple_true = model_solution.sol.EmargV_start_as_couple\n",
    "    EmargVw_start_as_single_true = model_solution.sol.EmargVw_start_as_single\n",
    "    EmargVm_start_as_single_true = model_solution.sol.EmargVm_start_as_single\n",
    "    grid_A_true = model_solution.par.grid_A\n",
    "    grid_power_true = model_solution.par.grid_power\n",
    "    grid_love_true = model_solution.par.grid_love\n",
    "\n",
    "    margV_list = [EmargV_start_as_couple_true, EmargVw_start_as_single_true, EmargVm_start_as_single_true, grid_A_true, grid_power_true, grid_love_true]\n",
    "\n",
    "    ## saveobject in pickle\n",
    "    if do_save:\n",
    "        with open('output/solution_margV.pkl', 'wb') as f:\n",
    "            pickle.dump(margV_list, f)\n",
    "        print('Saved solution margVs')\n",
    "\n",
    "if do_load:\n",
    "    with open('output/solution_margV.pkl', 'rb') as f:\n",
    "        EmargV_start_as_couple_true, EmargVw_start_as_single_true, EmargVm_start_as_single_true, grid_A_true, grid_power_true, grid_love_true = pickle.load(f)\n",
    "    print('Loaded solution margVs')\n"
   ]
  },
  {
   "cell_type": "code",
   "execution_count": 66,
   "metadata": {},
   "outputs": [
    {
     "name": "stdout",
     "output_type": "stream",
     "text": [
      "\n",
      "solving VFI...\n",
      "Set external solution for computing Euler Errors\n",
      "CPU times: total: 1min 52s\n",
      "Wall time: 6.18 s\n",
      "Simulating VFI...\n",
      "CPU times: total: 57.3 s\n",
      "Wall time: 3.14 s\n",
      "Mean log10 euler error: [-5.65790263]\n",
      "\n",
      "solving iEGM c15 linear...\n",
      "Set external solution for computing Euler Errors\n",
      "CPU times: total: 7.16 s\n",
      "Wall time: 372 ms\n",
      "Simulating iEGM c15 linear...\n",
      "CPU times: total: 54.3 s\n",
      "Wall time: 2.96 s\n",
      "Mean log10 euler error: [-4.23537071]\n",
      "\n",
      "solving iEGM c100 linear...\n",
      "Set external solution for computing Euler Errors\n",
      "CPU times: total: 8.66 s\n",
      "Wall time: 484 ms\n",
      "Simulating iEGM c100 linear...\n",
      "CPU times: total: 44.2 s\n",
      "Wall time: 2.29 s\n",
      "Mean log10 euler error: [-5.36524749]\n",
      "\n",
      "solving iEGM c15, linear inverse...\n",
      "Set external solution for computing Euler Errors\n",
      "CPU times: total: 6.09 s\n",
      "Wall time: 389 ms\n",
      "Simulating iEGM c15, linear inverse...\n",
      "CPU times: total: 43.8 s\n",
      "Wall time: 2.54 s\n",
      "Mean log10 euler error: [-3.02704757]\n",
      "\n",
      "solving iEGM c100 linear inverse...\n",
      "Set external solution for computing Euler Errors\n",
      "CPU times: total: 5.81 s\n",
      "Wall time: 386 ms\n",
      "Simulating iEGM c100 linear inverse...\n",
      "CPU times: total: 31.7 s\n",
      "Wall time: 2 s\n",
      "Mean log10 euler error: [-5.58315325]\n"
     ]
    }
   ],
   "source": [
    "# solve different models\n",
    "models = {}\n",
    "for name,spec in specs.items():\n",
    "    print(f'\\nsolving {spec[\"latexname\"]}...')\n",
    "    \n",
    "    # setup model\n",
    "    models[name] = lcm.HouseholdModelClass(name=name,par=spec['par'])\n",
    "    models[name].par.seed = 0\n",
    "    models[name].allocate()\n",
    "\n",
    "    if models[name].par.use_external_solution:\n",
    "        print(\"Set external solution for computing Euler Errors\")\n",
    "        models[name].set_true_EmargV(EmargV_start_as_couple_true, EmargVw_start_as_single_true, EmargVm_start_as_single_true, grid_A_true, grid_power_true, grid_love_true)\n",
    "\n",
    "        \n",
    "    if do_cpp: models[name].link_to_cpp(force_compile=False)\n",
    "    models[name].spec = spec\n",
    "\n",
    "    # # solve\n",
    "    %time models[name].solve()\n",
    "\n",
    "    # # simulate\n",
    "    print(f'Simulating {spec[\"latexname\"]}...')\n",
    "    %time models[name].simulate()\n",
    "    print(f'Mean log10 euler error: {models[name].sim.mean_log10_euler}')\n",
    "\n"
   ]
  },
  {
   "cell_type": "code",
   "execution_count": 6,
   "metadata": {},
   "outputs": [
    {
     "data": {
      "text/plain": [
       "<matplotlib.legend.Legend at 0x24c525d6790>"
      ]
     },
     "execution_count": 6,
     "metadata": {},
     "output_type": "execute_result"
    },
    {
     "data": {
      "image/png": "[encoded data removed]",
      "text/plain": [
       "<Figure size 1000x500 with 1 Axes>"
      ]
     },
     "metadata": {},
     "output_type": "display_data"
    }
   ],
   "source": [
    "# plot solutions\n",
    "fig, ax = plt.subplots(1, 1, figsize=(10,5))\n",
    "\n",
    "var = 'C_pub_couple_to_couple'\n",
    "grid = 'grid_A'\n",
    "t = 0\n",
    "iP = 5\n",
    "iL = 10\n",
    "\n",
    "i = 0\n",
    "for name,model in models.items():\n",
    "\n",
    "    # if name in ['model 4', 'model 5']:\n",
    "    par = model.par\n",
    "    sol = model.sol\n",
    "\n",
    "    plotvar =  getattr(sol,var)\n",
    "\n",
    "    ax.plot(getattr(par,grid), plotvar[t,iP,iL], label=specs[name]['latexname'], linestyle=linestyles[i], marker=markers[i], linewidth=linewidth)\n",
    "    i += 1\n",
    "\n",
    "\n",
    "ax.legend()\n"
   ]
  },
  {
   "cell_type": "code",
   "execution_count": 7,
   "metadata": {},
   "outputs": [
    {
     "name": "stdout",
     "output_type": "stream",
     "text": [
      "\n",
      "solving model 1...\n",
      "CPU times: total: 1min 36s\n",
      "Wall time: 4.81 s\n",
      "\n",
      "solving model 2...\n",
      "CPU times: total: 7.08 s\n",
      "Wall time: 324 ms\n",
      "\n",
      "solving model 3...\n",
      "CPU times: total: 6.14 s\n",
      "Wall time: 324 ms\n",
      "\n",
      "solving model 4...\n",
      "CPU times: total: 6.2 s\n",
      "Wall time: 314 ms\n",
      "\n",
      "solving model 5...\n",
      "CPU times: total: 6.53 s\n",
      "Wall time: 356 ms\n"
     ]
    }
   ],
   "source": [
    "# Re-compile and solve\n",
    "for model in models.values():\n",
    "    model.cpp.delink()\n",
    "\n",
    "recompile = True\n",
    "for name in models.keys():\n",
    "    models[name].link_to_cpp(force_compile=recompile)\n",
    "\n",
    "    print(f'\\nsolving {name}...')\n",
    "    models[name].allocate()\n",
    "    %time models[name].solve()\n",
    "\n",
    "    recompile = False\n"
   ]
  },
  {
   "cell_type": "markdown",
   "metadata": {},
   "source": [
    "## Monte Carlo runs"
   ]
  },
  {
   "cell_type": "code",
   "execution_count": 97,
   "metadata": {},
   "outputs": [],
   "source": [
    "MC_num = 200 # number of Monte Carlo simulations\n",
    "C_num_grid = (15,20,50,100,200) # number of grid points in consumption grid i iEGM\n",
    "\n",
    "specs = {'centered_gradient':True, \n",
    "       'p_meet': 0.1, \n",
    "       'div_A_share': 0.5, \n",
    "       'sigma_love':0.1,\n",
    "       'T':20,\n",
    "       'do_cpp':True,\n",
    "       'threads':50,\n",
    "       'simT':T,\n",
    "       'simN': 1000,\n",
    "       'use_external_solution':True,\n",
    "       }"
   ]
  },
  {
   "cell_type": "code",
   "execution_count": 98,
   "metadata": {},
   "outputs": [],
   "source": [
    "PRINT = True\n",
    "# setup Monte Carlo results containers\n",
    "timing = {\n",
    "    'vfi':np.nan + np.zeros(MC_num),\n",
    "    'iegm, linear':dict(),\n",
    "    'iegm, linear inverse':dict(),\n",
    "}\n",
    "error = {\n",
    "    'vfi':np.nan + np.zeros(MC_num),\n",
    "    'iegm, linear':dict(),\n",
    "    'iegm, linear inverse':dict(),\n",
    "}\n",
    "for i_c,num_C in enumerate(C_num_grid):\n",
    "    timing['iegm, linear'][num_C] = np.nan + np.zeros(MC_num)\n",
    "    error['iegm, linear'][num_C] = np.nan + np.zeros(MC_num)\n",
    "\n",
    "    timing['iegm, linear inverse'][num_C] = np.nan + np.zeros(MC_num)\n",
    "    error['iegm, linear inverse'][num_C] = np.nan + np.zeros(MC_num)"
   ]
  },
  {
   "cell_type": "code",
   "execution_count": 99,
   "metadata": {},
   "outputs": [
    {
     "name": "stdout",
     "output_type": "stream",
     "text": [
      "1/1 running...\n"
     ]
    }
   ],
   "source": [
    "# loop over Monte Carlo simulations\n",
    "for i_mc in range(MC_num):\n",
    "    if PRINT: print(f'{i_mc+1}/{MC_num} running...')\n",
    "    model = lcm.HouseholdModelClass(par=specs)\n",
    "\n",
    "    model.par.seed = i_mc\n",
    "    model.allocate()\n",
    "    model.set_true_EmargV(EmargV_start_as_couple_true, EmargVw_start_as_single_true, EmargVm_start_as_single_true, grid_A_true, grid_power_true, grid_love_true)\n",
    "\n",
    "    model.link_to_cpp(force_compile=False)\n",
    "\n",
    "    # VFI\n",
    "    model.par.do_egm = False\n",
    "    \n",
    "    # Timing\n",
    "    t0 = time()\n",
    "    model.solve()\n",
    "    timing['vfi'][i_mc] = time() - t0\n",
    "\n",
    "    # Euler error\n",
    "    model.simulate()\n",
    "    error['vfi'][i_mc] = model.sim.mean_log10_euler\n",
    "\n",
    "    # iEGM\n",
    "    model.par.do_egm = True\n",
    "    for interp_inverse in (False,True):\n",
    "        model.par.interp_inverse = interp_inverse\n",
    "        method = f'iegm, linear inverse' if interp_inverse else 'iegm, linear'\n",
    "        for i_c,num_C in enumerate(C_num_grid):\n",
    "            model.par.num_marg_u = num_C\n",
    "\n",
    "            model.allocate()\n",
    "            model.set_true_EmargV(EmargV_start_as_couple_true, EmargVw_start_as_single_true, EmargVm_start_as_single_true, grid_A_true, grid_power_true, grid_love_true)\n",
    "\n",
    "            # Timing\n",
    "            t0 = time()\n",
    "            model.solve()\n",
    "            timing[method][num_C][i_mc] = time() - t0\n",
    "\n",
    "            # Euler error\n",
    "            model.simulate()\n",
    "            error[method][num_C][i_mc] = model.sim.mean_log10_euler\n",
    "\n",
    "# save MC objects\n",
    "with open('output/MC_timing.pkl', 'wb') as f:\n",
    "    pickle.dump(timing, f)\n",
    "with open('output/MC_error.pkl', 'wb') as f:\n",
    "    pickle.dump(error, f)"
   ]
  }
 ],
 "metadata": {
  "kernelspec": {
   "display_name": "Python 3",
   "language": "python",
   "name": "python3"
  },
  "language_info": {
   "codemirror_mode": {
    "name": "ipython",
    "version": 3
   },
   "file_extension": ".py",
   "mimetype": "text/x-python",
   "name": "python",
   "nbconvert_exporter": "python",
   "pygments_lexer": "ipython3",
   "version": "3.11.5"
  }
 },
 "nbformat": 4,
 "nbformat_minor": 4
}
