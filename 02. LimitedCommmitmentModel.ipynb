{
 "cells": [
  {
   "cell_type": "code",
   "execution_count": 1,
   "metadata": {},
   "outputs": [],
   "source": [
    "%load_ext autoreload\n",
    "%load_ext line_profiler\n",
    "%autoreload 2\n",
    "\n",
    "import numpy as np\n",
    "import pickle\n",
    "from time import time\n",
    "\n",
    "import LimitedCommitmentModel as lcm\n",
    "\n",
    "path = 'output/'\n",
    "\n",
    "# c++ settings\n",
    "do_compile = True\n",
    "threads = 20\n",
    "\n",
    "# from EconModel import cpptools\n",
    "# cpptools.setup_nlopt(folder='cppfuncs/', do_print=True)"
   ]
  },
  {
   "cell_type": "markdown",
   "metadata": {},
   "source": [
    "# Solve and simulate from alternative models"
   ]
  },
  {
   "cell_type": "markdown",
   "metadata": {},
   "source": [
    "Benchmark model settings"
   ]
  },
  {
   "cell_type": "code",
   "execution_count": 2,
   "metadata": {},
   "outputs": [],
   "source": [
    "settings = { \n",
    "       'T':20,\n",
    "       'p_meet': 0.1, \n",
    "       'div_A_share': 0.5, \n",
    "       'sigma_love':0.1,\n",
    "       'threads':threads, \n",
    "       'interp_power':False,\n",
    "       'num_love': 21, \n",
    "       'do_egm':True, \n",
    "       'num_A': 50, \n",
    "       'num_A_pd':50,\n",
    "       'num_Ctot':50,\n",
    "       'simT':20,\n",
    "       'simN': 10000,\n",
    "       'centered_gradient':True,\n",
    "       'use_external_solution':True,\n",
    "       }"
   ]
  },
  {
   "cell_type": "markdown",
   "metadata": {},
   "source": [
    "Solve \"true\" model through dense grids using VFI"
   ]
  },
  {
   "cell_type": "code",
   "execution_count": 3,
   "metadata": {},
   "outputs": [],
   "source": [
    "specs_true = {'true': {'latexname':'true', 'par':{**settings, 'do_egm':False, 'num_A': 250, 'num_Ctot':250, 'num_power':101, 'num_love':101}}}\n",
    "\n",
    "model_true = lcm.HouseholdModelClass(par=specs_true['true']['par'])\n",
    "model_true.link_to_cpp(force_compile=do_compile)\n",
    "model_true.solve()"
   ]
  },
  {
   "cell_type": "markdown",
   "metadata": {},
   "source": [
    "## Monte Carlo runs"
   ]
  },
  {
   "cell_type": "markdown",
   "metadata": {},
   "source": [
    "Monte Carlo settings"
   ]
  },
  {
   "cell_type": "code",
   "execution_count": 4,
   "metadata": {},
   "outputs": [],
   "source": [
    "MC_num = 200 # number of Monte Carlo simulations\n",
    "C_num_grid = (20,50,100,200) # number of grid points in consumption grid i iEGM\n",
    "do_EGM = True\n",
    "do_VFI = True\n",
    "PRINT = True"
   ]
  },
  {
   "cell_type": "markdown",
   "metadata": {},
   "source": [
    "Set up containers"
   ]
  },
  {
   "cell_type": "code",
   "execution_count": 5,
   "metadata": {},
   "outputs": [],
   "source": [
    "timing = {\n",
    "    'vfi':np.nan + np.zeros(MC_num),\n",
    "    'egm, numerical': np.nan + np.zeros(MC_num),\n",
    "    'iegm, linear':dict(),\n",
    "    'iegm, linear inverse':dict(),\n",
    "}\n",
    "util = {\n",
    "    'vfi':np.nan + np.zeros(MC_num),\n",
    "    'egm, numerical': np.nan + np.zeros(MC_num),\n",
    "    'iegm, linear':dict(),\n",
    "    'iegm, linear inverse':dict(),\n",
    "}\n",
    "for i_c,num_C in enumerate(C_num_grid):\n",
    "    timing['iegm, linear'][num_C] = np.nan + np.zeros(MC_num)\n",
    "    util['iegm, linear'][num_C] = np.nan + np.zeros(MC_num)\n",
    "\n",
    "    timing['iegm, linear inverse'][num_C] = np.nan + np.zeros(MC_num)\n",
    "    util['iegm, linear inverse'][num_C] = np.nan + np.zeros(MC_num)"
   ]
  },
  {
   "cell_type": "markdown",
   "metadata": {},
   "source": [
    "Run monte carlo simulations"
   ]
  },
  {
   "cell_type": "code",
   "execution_count": 6,
   "metadata": {},
   "outputs": [
    {
     "name": "stdout",
     "output_type": "stream",
     "text": [
      "1/200 running...\n",
      "2/200 running...\n",
      "3/200 running...\n",
      "4/200 running...\n",
      "5/200 running...\n"
     ]
    },
    {
     "ename": "AttributeError",
     "evalue": "function 'simulate' not found",
     "output_type": "error",
     "traceback": [
      "\u001b[1;31m---------------------------------------------------------------------------\u001b[0m",
      "\u001b[1;31mOSError\u001b[0m                                   Traceback (most recent call last)",
      "File \u001b[1;32mc:\\users\\bnl429\\projects\\econmodel\\EconModel\\cpptools.py:403\u001b[0m, in \u001b[0;36mlink_to_cpp.__call_func\u001b[1;34m(self, funcname, *args)\u001b[0m\n\u001b[0;32m    402\u001b[0m funcnow \u001b[38;5;241m=\u001b[39m \u001b[38;5;28mgetattr\u001b[39m(\u001b[38;5;28mself\u001b[39m\u001b[38;5;241m.\u001b[39mcppfile,funcname)\n\u001b[1;32m--> 403\u001b[0m result \u001b[38;5;241m=\u001b[39m \u001b[43mfuncnow\u001b[49m\u001b[43m(\u001b[49m\u001b[38;5;241;43m*\u001b[39;49m\u001b[43mp_args\u001b[49m\u001b[43m)\u001b[49m\n\u001b[0;32m    404\u001b[0m \u001b[38;5;28;01mbreak\u001b[39;00m\n",
      "\u001b[1;31mOSError\u001b[0m: exception: access violation writing 0x00007FFB2242B040",
      "\nDuring handling of the above exception, another exception occurred:\n",
      "\u001b[1;31mAttributeError\u001b[0m                            Traceback (most recent call last)",
      "Input \u001b[1;32mIn [6]\u001b[0m, in \u001b[0;36m<cell line: 1>\u001b[1;34m()\u001b[0m\n\u001b[0;32m      5\u001b[0m model_true\u001b[38;5;241m.\u001b[39mpar\u001b[38;5;241m.\u001b[39mseed \u001b[38;5;241m=\u001b[39m i_mc\n\u001b[0;32m      6\u001b[0m model_true\u001b[38;5;241m.\u001b[39mallocate_draws()\n\u001b[1;32m----> 7\u001b[0m \u001b[43mmodel_true\u001b[49m\u001b[38;5;241;43m.\u001b[39;49m\u001b[43msimulate\u001b[49m\u001b[43m(\u001b[49m\u001b[43m)\u001b[49m\n\u001b[0;32m      8\u001b[0m true_mean_lifetime_util \u001b[38;5;241m=\u001b[39m model_true\u001b[38;5;241m.\u001b[39msim\u001b[38;5;241m.\u001b[39mmean_lifetime_util\n\u001b[0;32m     10\u001b[0m \u001b[38;5;66;03m# setup alternative model solutios\u001b[39;00m\n",
      "File \u001b[1;32mc:\\Users\\bnl429\\Projects\\iEGM\\LimitedCommitmentModel.py:376\u001b[0m, in \u001b[0;36mHouseholdModelClass.simulate\u001b[1;34m(self)\u001b[0m\n\u001b[0;32m    373\u001b[0m     \u001b[38;5;28;01mif\u001b[39;00m \u001b[38;5;124m'\u001b[39m\u001b[38;5;124minit\u001b[39m\u001b[38;5;124m'\u001b[39m \u001b[38;5;129;01min\u001b[39;00m key \u001b[38;5;129;01mor\u001b[39;00m \u001b[38;5;124m'\u001b[39m\u001b[38;5;124mdraw\u001b[39m\u001b[38;5;124m'\u001b[39m \u001b[38;5;129;01min\u001b[39;00m key: \u001b[38;5;28;01mcontinue\u001b[39;00m\n\u001b[0;32m    374\u001b[0m     \u001b[38;5;28msetattr\u001b[39m(sim, key, np\u001b[38;5;241m.\u001b[39mzeros(val\u001b[38;5;241m.\u001b[39mshape)\u001b[38;5;241m+\u001b[39mnp\u001b[38;5;241m.\u001b[39mnan)\n\u001b[1;32m--> 376\u001b[0m \u001b[38;5;28;43mself\u001b[39;49m\u001b[38;5;241;43m.\u001b[39;49m\u001b[43mcpp\u001b[49m\u001b[38;5;241;43m.\u001b[39;49m\u001b[43msimulate\u001b[49m\u001b[43m(\u001b[49m\u001b[43msim\u001b[49m\u001b[43m,\u001b[49m\u001b[43msol\u001b[49m\u001b[43m,\u001b[49m\u001b[43mpar\u001b[49m\u001b[43m)\u001b[49m\n\u001b[0;32m    378\u001b[0m sim\u001b[38;5;241m.\u001b[39mmean_lifetime_util[\u001b[38;5;241m0\u001b[39m] \u001b[38;5;241m=\u001b[39m np\u001b[38;5;241m.\u001b[39mmean(np\u001b[38;5;241m.\u001b[39msum(sim\u001b[38;5;241m.\u001b[39mutil,axis\u001b[38;5;241m=\u001b[39m\u001b[38;5;241m1\u001b[39m))\n",
      "File \u001b[1;32mc:\\users\\bnl429\\projects\\econmodel\\EconModel\\cpptools.py:258\u001b[0m, in \u001b[0;36mlink_to_cpp.compile.<locals>.__call_func.<locals>.<lambda>\u001b[1;34m(*x)\u001b[0m\n\u001b[1;32m--> 258\u001b[0m \u001b[38;5;28;01mdef\u001b[39;00m \u001b[38;5;21m__call_func\u001b[39m(name): \u001b[38;5;28;01mreturn\u001b[39;00m \u001b[38;5;28;01mlambda\u001b[39;00m \u001b[38;5;241m*\u001b[39mx: \u001b[38;5;28;43mself\u001b[39;49m\u001b[38;5;241;43m.\u001b[39;49m\u001b[43m__call_func\u001b[49m\u001b[43m(\u001b[49m\u001b[43mname\u001b[49m\u001b[43m,\u001b[49m\u001b[38;5;241;43m*\u001b[39;49m\u001b[43mx\u001b[49m\u001b[43m)\u001b[49m\n",
      "File \u001b[1;32mc:\\users\\bnl429\\projects\\econmodel\\EconModel\\cpptools.py:408\u001b[0m, in \u001b[0;36mlink_to_cpp.__call_func\u001b[1;34m(self, funcname, *args)\u001b[0m\n\u001b[0;32m    404\u001b[0m         \u001b[38;5;28;01mbreak\u001b[39;00m\n\u001b[0;32m    406\u001b[0m     \u001b[38;5;28;01mexcept\u001b[39;00m \u001b[38;5;167;01mException\u001b[39;00m \u001b[38;5;28;01mas\u001b[39;00m e:\n\u001b[1;32m--> 408\u001b[0m         \u001b[38;5;28;01mif\u001b[39;00m n \u001b[38;5;241m==\u001b[39m \u001b[38;5;241m0\u001b[39m: \u001b[38;5;28;43mself\u001b[39;49m\u001b[38;5;241;43m.\u001b[39;49m\u001b[43mcompile\u001b[49m\u001b[43m(\u001b[49m\u001b[43mforce_compile\u001b[49m\u001b[38;5;241;43m=\u001b[39;49m\u001b[38;5;28;43;01mFalse\u001b[39;49;00m\u001b[43m)\u001b[49m \u001b[38;5;66;03m# re-linking might solve the problem\u001b[39;00m\n\u001b[0;32m    409\u001b[0m         \u001b[38;5;28;01mif\u001b[39;00m n \u001b[38;5;241m==\u001b[39m \u001b[38;5;241m1\u001b[39m: \u001b[38;5;28mprint\u001b[39m(e) \u001b[38;5;66;03m# print error message\u001b[39;00m\n\u001b[0;32m    411\u001b[0m \u001b[38;5;66;03m# print log\u001b[39;00m\n",
      "File \u001b[1;32mc:\\users\\bnl429\\projects\\econmodel\\EconModel\\cpptools.py:254\u001b[0m, in \u001b[0;36mlink_to_cpp.compile\u001b[1;34m(self, force_compile, do_print)\u001b[0m\n\u001b[0;32m    251\u001b[0m \u001b[38;5;28;01mif\u001b[39;00m do_tasmanian: \u001b[38;5;28mself\u001b[39m\u001b[38;5;241m.\u001b[39mdelink(cppfile\u001b[38;5;241m=\u001b[39mtasmanianfile,do_print\u001b[38;5;241m=\u001b[39m\u001b[38;5;28;01mFalse\u001b[39;00m)\n\u001b[0;32m    253\u001b[0m \u001b[38;5;66;03m# set types\u001b[39;00m\n\u001b[1;32m--> 254\u001b[0m \u001b[38;5;28;43mself\u001b[39;49m\u001b[38;5;241;43m.\u001b[39;49m\u001b[43m__set_types\u001b[49m\u001b[43m(\u001b[49m\u001b[43m)\u001b[49m\n\u001b[0;32m    255\u001b[0m \u001b[38;5;28;01mif\u001b[39;00m do_print: \u001b[38;5;28mprint\u001b[39m(\u001b[38;5;124m'\u001b[39m\u001b[38;5;124mC++ files loaded\u001b[39m\u001b[38;5;130;01m\\n\u001b[39;00m\u001b[38;5;124m'\u001b[39m)\n\u001b[0;32m    257\u001b[0m \u001b[38;5;66;03m# f. function call method\u001b[39;00m\n",
      "File \u001b[1;32mc:\\users\\bnl429\\projects\\econmodel\\EconModel\\cpptools.py:309\u001b[0m, in \u001b[0;36mlink_to_cpp.__set_types\u001b[1;34m(self)\u001b[0m\n\u001b[0;32m    306\u001b[0m     \u001b[38;5;28;01mraise\u001b[39;00m \u001b[38;5;167;01mException\u001b[39;00m(\u001b[38;5;124mf\u001b[39m\u001b[38;5;124m'\u001b[39m\u001b[38;5;124mreturn type \u001b[39m\u001b[38;5;132;01m{\u001b[39;00mrestype_raw\u001b[38;5;132;01m}\u001b[39;00m\u001b[38;5;124m not allowed\u001b[39m\u001b[38;5;124m'\u001b[39m)\n\u001b[0;32m    308\u001b[0m \u001b[38;5;66;03m# c. set\u001b[39;00m\n\u001b[1;32m--> 309\u001b[0m funcnow \u001b[38;5;241m=\u001b[39m \u001b[38;5;28;43mgetattr\u001b[39;49m\u001b[43m(\u001b[49m\u001b[38;5;28;43mself\u001b[39;49m\u001b[38;5;241;43m.\u001b[39;49m\u001b[43mcppfile\u001b[49m\u001b[43m,\u001b[49m\u001b[43mfuncname\u001b[49m\u001b[43m)\u001b[49m\n\u001b[0;32m    310\u001b[0m funcnow\u001b[38;5;241m.\u001b[39mrestype \u001b[38;5;241m=\u001b[39m restype\n\u001b[0;32m    311\u001b[0m \u001b[38;5;28;01mif\u001b[39;00m \u001b[38;5;28mlen\u001b[39m(argtypes) \u001b[38;5;241m>\u001b[39m \u001b[38;5;241m0\u001b[39m:\n",
      "File \u001b[1;32mc:\\Users\\bnl429\\Anaconda3\\lib\\ctypes\\__init__.py:386\u001b[0m, in \u001b[0;36mCDLL.__getattr__\u001b[1;34m(self, name)\u001b[0m\n\u001b[0;32m    384\u001b[0m \u001b[38;5;28;01mif\u001b[39;00m name\u001b[38;5;241m.\u001b[39mstartswith(\u001b[38;5;124m'\u001b[39m\u001b[38;5;124m__\u001b[39m\u001b[38;5;124m'\u001b[39m) \u001b[38;5;129;01mand\u001b[39;00m name\u001b[38;5;241m.\u001b[39mendswith(\u001b[38;5;124m'\u001b[39m\u001b[38;5;124m__\u001b[39m\u001b[38;5;124m'\u001b[39m):\n\u001b[0;32m    385\u001b[0m     \u001b[38;5;28;01mraise\u001b[39;00m \u001b[38;5;167;01mAttributeError\u001b[39;00m(name)\n\u001b[1;32m--> 386\u001b[0m func \u001b[38;5;241m=\u001b[39m \u001b[38;5;28;43mself\u001b[39;49m\u001b[38;5;241;43m.\u001b[39;49m\u001b[38;5;21;43m__getitem__\u001b[39;49m\u001b[43m(\u001b[49m\u001b[43mname\u001b[49m\u001b[43m)\u001b[49m\n\u001b[0;32m    387\u001b[0m \u001b[38;5;28msetattr\u001b[39m(\u001b[38;5;28mself\u001b[39m, name, func)\n\u001b[0;32m    388\u001b[0m \u001b[38;5;28;01mreturn\u001b[39;00m func\n",
      "File \u001b[1;32mc:\\Users\\bnl429\\Anaconda3\\lib\\ctypes\\__init__.py:391\u001b[0m, in \u001b[0;36mCDLL.__getitem__\u001b[1;34m(self, name_or_ordinal)\u001b[0m\n\u001b[0;32m    390\u001b[0m \u001b[38;5;28;01mdef\u001b[39;00m \u001b[38;5;21m__getitem__\u001b[39m(\u001b[38;5;28mself\u001b[39m, name_or_ordinal):\n\u001b[1;32m--> 391\u001b[0m     func \u001b[38;5;241m=\u001b[39m \u001b[38;5;28;43mself\u001b[39;49m\u001b[38;5;241;43m.\u001b[39;49m\u001b[43m_FuncPtr\u001b[49m\u001b[43m(\u001b[49m\u001b[43m(\u001b[49m\u001b[43mname_or_ordinal\u001b[49m\u001b[43m,\u001b[49m\u001b[43m \u001b[49m\u001b[38;5;28;43mself\u001b[39;49m\u001b[43m)\u001b[49m\u001b[43m)\u001b[49m\n\u001b[0;32m    392\u001b[0m     \u001b[38;5;28;01mif\u001b[39;00m \u001b[38;5;129;01mnot\u001b[39;00m \u001b[38;5;28misinstance\u001b[39m(name_or_ordinal, \u001b[38;5;28mint\u001b[39m):\n\u001b[0;32m    393\u001b[0m         func\u001b[38;5;241m.\u001b[39m\u001b[38;5;18m__name__\u001b[39m \u001b[38;5;241m=\u001b[39m name_or_ordinal\n",
      "\u001b[1;31mAttributeError\u001b[0m: function 'simulate' not found"
     ]
    }
   ],
   "source": [
    "for i_mc in range(MC_num):\n",
    "    if PRINT: print(f'{i_mc+1}/{MC_num} running...')\n",
    "\n",
    "    # simulate true model (solved once above)\n",
    "    model_true.par.seed = i_mc\n",
    "    model_true.allocate_draws()\n",
    "    model_true.simulate()\n",
    "    true_mean_lifetime_util = model_true.sim.mean_lifetime_util\n",
    "\n",
    "    # setup alternative model solutios\n",
    "    model = lcm.HouseholdModelClass(par=settings)\n",
    "\n",
    "    model.par.seed = i_mc\n",
    "    model.allocate()\n",
    "    model.link_to_cpp(force_compile=False)\n",
    "\n",
    "    # VFI\n",
    "    if do_VFI:\n",
    "        model.par.do_egm = False\n",
    "        for precomp in (False,):\n",
    "            model.par.precompute_intratemporal = precomp\n",
    "            name_now = 'vfi' if not precomp else 'vfi precomp'\n",
    "\n",
    "            # Timing\n",
    "            t0 = time()\n",
    "            model.solve()\n",
    "            timing[name_now][i_mc] = time() - t0\n",
    "\n",
    "            # Lifetime utility error\n",
    "            model.simulate()\n",
    "            util[name_now][i_mc] = np.abs((model.sim.mean_lifetime_util - true_mean_lifetime_util)/true_mean_lifetime_util) * 100\n",
    "\n",
    "\n",
    "    # EGM, numerical\n",
    "    if do_EGM:\n",
    "        model.par.do_egm = True\n",
    "        model.par.interp_method = \"numerical\"\n",
    "        for precomp in (False,):\n",
    "            model.par.precompute_intratemporal = precomp\n",
    "            name_now = 'egm, numerical' if not precomp else 'egm, numerical precomp'\n",
    "\n",
    "            # Timing\n",
    "            t0 = time()\n",
    "            model.solve()\n",
    "            timing[name_now][i_mc] = time() - t0\n",
    "\n",
    "            # Lifetime utility error\n",
    "            model.simulate()\n",
    "            util[name_now][i_mc] = np.abs((model.sim.mean_lifetime_util - true_mean_lifetime_util)/true_mean_lifetime_util) * 100\n",
    "        \n",
    "\n",
    "    # iEGM\n",
    "    model.par.do_egm = True\n",
    "    model.par.interp_method = \"linear\"\n",
    "    model.par.precompute_intratemporal = False # Never use pre-computed values besides the interpolator for C\n",
    "    for interp_inverse in (False,True):\n",
    "        model.par.interp_inverse = interp_inverse\n",
    "        method = f'iegm, linear inverse' if interp_inverse else 'iegm, linear'\n",
    "        for i_c,num_C in enumerate(C_num_grid):\n",
    "            model.par.num_marg_u = num_C\n",
    "\n",
    "            model.allocate()\n",
    "\n",
    "            # Timing\n",
    "            t0 = time()\n",
    "            model.solve()\n",
    "            timing[method][num_C][i_mc] = time() - t0\n",
    "\n",
    "            # Euler error\n",
    "            model.simulate()\n",
    "            util[method][num_C][i_mc] = np.abs((model.sim.mean_lifetime_util - true_mean_lifetime_util)/true_mean_lifetime_util) * 100\n",
    "            \n",
    "    model.cpp.delink()\n",
    "\n",
    "    # save MC objects\n",
    "    with open('output/MC_timing.pkl', 'wb') as f:\n",
    "        pickle.dump(timing, f)\n",
    "    with open('output/MC_util.pkl', 'wb') as f:\n",
    "        pickle.dump(util, f)"
   ]
  },
  {
   "cell_type": "markdown",
   "metadata": {},
   "source": [
    "Results"
   ]
  },
  {
   "cell_type": "code",
   "execution_count": 9,
   "metadata": {},
   "outputs": [
    {
     "name": "stdout",
     "output_type": "stream",
     "text": [
      "Lifetime utility & Timing (rel. to VFI)\n",
      "vfi: 0.510 & 1.000 \n",
      "egm, numerical: 0.509 & 0.274 \n",
      "iegm, linear: \n",
      "20 0.473 & 0.019 \n",
      "50 0.509 & 0.019 \n",
      "100 0.509 & 0.019 \n",
      "200 0.510 & 0.019 \n",
      "iegm, linear inverse: \n",
      "20 0.509 & 0.018 \n",
      "50 0.510 & 0.019 \n",
      "100 0.510 & 0.019 \n",
      "200 0.510 & 0.019 \n"
     ]
    }
   ],
   "source": [
    "print('Lifetime utility & Timing (rel. to VFI)')\n",
    "timing_vfi = np.nanmean(timing['vfi'])\n",
    "for method in ('vfi','egm, numerical'):\n",
    "    util_now = np.nanmean(util[method])\n",
    "    time_now = np.nanmean(timing[method]) / timing_vfi\n",
    "    print(f'{method}: {util_now:2.3f} & {time_now:2.3f} ')\n",
    "\n",
    "for method in ('iegm, linear','iegm, linear inverse'):\n",
    "    print(f'{method}: ')\n",
    "    for i_c,num_C in enumerate(C_num_grid):\n",
    "        util_now = np.nanmean(util[method][num_C]) \n",
    "        time_now = np.nanmean(timing[method][num_C]) / timing_vfi\n",
    "        print(f'{num_C:d} {util_now:2.3f} & {time_now:2.3f} ')"
   ]
  }
 ],
 "metadata": {
  "kernelspec": {
   "display_name": "Python 3",
   "language": "python",
   "name": "python3"
  },
  "language_info": {
   "codemirror_mode": {
    "name": "ipython",
    "version": 3
   },
   "file_extension": ".py",
   "mimetype": "text/x-python",
   "name": "python",
   "nbconvert_exporter": "python",
   "pygments_lexer": "ipython3",
   "version": "3.8.13"
  }
 },
 "nbformat": 4,
 "nbformat_minor": 4
}
