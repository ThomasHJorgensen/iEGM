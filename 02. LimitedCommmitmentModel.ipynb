{
 "cells": [
  {
   "cell_type": "code",
   "execution_count": 1,
   "metadata": {},
   "outputs": [],
   "source": [
    "%load_ext autoreload\n",
    "%load_ext line_profiler\n",
    "%autoreload 2\n",
    "\n",
    "import numpy as np\n",
    "from mpl_toolkits import mplot3d\n",
    "import matplotlib\n",
    "import matplotlib.pyplot as plt\n",
    "import scipy.optimize as optimize\n",
    "\n",
    "from consav import linear_interp\n",
    "\n",
    "import LimitedCommitmentModel as lcm\n",
    "\n",
    "# plot style\n",
    "linestyles = ['-','--','-.',':',':']\n",
    "markers = ['o','s','D','*','P']\n",
    "linewidth = 2\n",
    "font_size = 17\n",
    "font = {'size':font_size}\n",
    "matplotlib.rc('font', **font)\n",
    "\n",
    "plt.rcParams.update({'figure.max_open_warning': 0,'text.usetex': False})\n",
    "path = 'output/'\n",
    "\n",
    "# c++ settings\n",
    "do_cpp = True\n",
    "do_compile = True\n",
    "do_egm = True\n",
    "threads = 16\n",
    "\n",
    "# from EconModel import cpptools\n",
    "# cpptools.setup_nlopt(folder='cppfuncs/', do_print=True)"
   ]
  },
  {
   "cell_type": "code",
   "execution_count": 2,
   "metadata": {},
   "outputs": [],
   "source": [
    "# compile c++ files\n",
    "if do_cpp & do_compile:\n",
    "    model = lcm.HouseholdModelClass(par={'do_cpp':do_cpp,'num_Ctot':100})\n",
    "    model.link_to_cpp(force_compile=do_compile)\n",
    "    model.cpp.delink()"
   ]
  },
  {
   "cell_type": "markdown",
   "metadata": {},
   "source": [
    "# Solve and simulate from alternative models"
   ]
  },
  {
   "cell_type": "code",
   "execution_count": 3,
   "metadata": {},
   "outputs": [],
   "source": [
    "# settings for models to solve\n",
    "T = 2\n",
    "sigma = 0.1\n",
    "num_love = 21\n",
    "num_A = 20\n",
    "num_A_pd = 20\n",
    "\n",
    "uniform_mat = np.ones((num_A,num_A))/num_A\n",
    "\n",
    "settings = {'centered_gradient':True, \n",
    "       'p_meet': 0.1, \n",
    "       'div_A_share': 0.5, \n",
    "       'sigma_love':sigma,\n",
    "       'T':T,'do_cpp':do_cpp,\n",
    "       'threads':threads, \n",
    "       'interp_power':False,\n",
    "       'num_love': num_love, \n",
    "       'do_egm':True, \n",
    "       'num_A': num_A_pd, \n",
    "       'num_A_pd':num_A_pd,\n",
    "       'num_Ctot':20,\n",
    "       'simT':T,\n",
    "       }\n",
    "\n",
    "\n",
    "specs = {\n",
    "    'model 1':{'latexname':'Linear interp', 'par':{**settings, 'interp_method':'linear' }},\n",
    "    'model 2':{'latexname':'Numerical interp', 'par':{**settings, 'interp_method':'numerical', 'use_guess':False,}},\n",
    "    # 'model 3':{'latexname':'Deterministic partner assets', 'par':{**settings,'T':2,'interp_method':'numerical'}},\n",
    "}\n"
   ]
  },
  {
   "cell_type": "code",
   "execution_count": 4,
   "metadata": {},
   "outputs": [
    {
     "name": "stdout",
     "output_type": "stream",
     "text": [
      "solving model 1...\n",
      "CPU times: total: 1.81 s\n",
      "Wall time: 155 ms\n",
      "solving model 2...\n",
      "CPU times: total: 1min 8s\n",
      "Wall time: 7.3 s\n"
     ]
    }
   ],
   "source": [
    "# solve different models\n",
    "models = {}\n",
    "for name,spec in specs.items():\n",
    "    print(f'solving {name}...')\n",
    "    \n",
    "    # setup model\n",
    "    models[name] = lcm.HouseholdModelClass(name=name,par=spec['par'])\n",
    "    if do_cpp: models[name].link_to_cpp(force_compile=False)\n",
    "    models[name].spec = spec\n",
    "    \n",
    "    # # solve\n",
    "    %time models[name].solve()\n",
    "\n",
    "m1 = models['model 1']\n",
    "m2 = models['model 2']"
   ]
  },
  {
   "cell_type": "code",
   "execution_count": 5,
   "metadata": {},
   "outputs": [
    {
     "name": "stdout",
     "output_type": "stream",
     "text": [
      "CPU times: total: 1min 38s\n",
      "Wall time: 9.93 s\n"
     ]
    }
   ],
   "source": [
    "guess_mat = m2.sol.C_tot_pd\n",
    "models['model 3'] = lcm.HouseholdModelClass(name='Numerical interp, correct guess',par={**settings, 'interp_method':'numerical', 'use_guess':True, 'guess_inv': guess_mat})\n",
    "models['model 3'].link_to_cpp(force_compile=False)\n",
    "models['model 3'].spec = {'latexname':'Numerical interp, correct guess'}\n",
    "%time models['model 3'].solve()"
   ]
  },
  {
   "cell_type": "code",
   "execution_count": 7,
   "metadata": {},
   "outputs": [
    {
     "name": "stdout",
     "output_type": "stream",
     "text": [
      "solving model 1...\n",
      "CPU times: total: 1.42 s\n",
      "Wall time: 113 ms\n",
      "solving model 2...\n",
      "CPU times: total: 44.1 s\n",
      "Wall time: 4.68 s\n",
      "solving model 3...\n",
      "CPU times: total: 1min 48s\n",
      "Wall time: 10.8 s\n"
     ]
    }
   ],
   "source": [
    "# ## Re-compile and solve\n",
    "models['model 1'].cpp.delink()\n",
    "models['model 2'].cpp.delink()\n",
    "\n",
    "models['model 2'].link_to_cpp(force_compile=True)\n",
    "models['model 1'].link_to_cpp(force_compile=False)\n",
    "\n",
    "for name in models.keys():\n",
    "\n",
    "    print(f'solving {name}...')\n",
    "    models[name].allocate()\n",
    "    %time models[name].solve()\n",
    "\n",
    "m1 = models['model 1']\n",
    "m2 = models['model 2']"
   ]
  },
  {
   "cell_type": "code",
   "execution_count": null,
   "metadata": {},
   "outputs": [
    {
     "data": {
      "image/png": "[encoded data removed]",
      "text/plain": [
       "<Figure size 640x480 with 1 Axes>"
      ]
     },
     "metadata": {},
     "output_type": "display_data"
    }
   ],
   "source": [
    "# tester numerical inverse marginal utility\n",
    "par = m1.par\n",
    "margU = 0.5\n",
    "iP = 5\n",
    "guess = 15.0\n",
    "do_print = True\n",
    "C = m1.cpp.inv_marg_util_couple(margU,iP,par,guess,do_print)\n",
    "\n",
    "fig,ax = plt.subplots()\n",
    "ax.plot(par.grid_marg_u_for_inv[iP],par.grid_inv_marg_u,marker='o');\n",
    "ax.plot(margU,C,color='red',marker='o')\n",
    "ax.set(xlim=[0.0,1.0]);\n",
    "# virker fint her. Men tager meget lang tid at køre... har ikke løst modellen med det\n",
    "# modellen løser, bare langsomt\n",
    "# Optimizer kører stort set lige så længe hvis man beder den gætte på det rigtige..."
   ]
  },
  {
   "cell_type": "markdown",
   "metadata": {},
   "source": [
    "# Solution"
   ]
  },
  {
   "cell_type": "code",
   "execution_count": null,
   "metadata": {},
   "outputs": [],
   "source": [
    "t = 0\n",
    "iL = 20\n",
    "iP = 5\n",
    "var = \"C_tot_couple_to_couple\"\n",
    "\n",
    "plt.plot(m1.par.grid_A, getattr(m1.sol,var)[t,iP,iL], label=m1.spec['latexname'], linewidth=6)\n",
    "plt.plot(m2.par.grid_A, getattr(m2.sol, var)[t, iP, iL], label=m2.spec['latexname'])\n",
    "plt.legend()"
   ]
  },
  {
   "cell_type": "code",
   "execution_count": null,
   "metadata": {},
   "outputs": [],
   "source": [
    "t = 0\n",
    "var = \"Cw_priv_single_to_single\"\n",
    "grid = \"grid_Aw\"\n",
    "\n",
    "plt.plot(getattr(m1.par,grid),getattr(m1.sol,var)[t], linewidth=6, label=m1.spec['latexname'])\n",
    "plt.plot(getattr(m2.par,grid),getattr(m2.sol, var)[t], linewidth=2,label=m2.spec['latexname'])\n",
    "plt.legend()\n"
   ]
  },
  {
   "cell_type": "code",
   "execution_count": null,
   "metadata": {},
   "outputs": [],
   "source": [
    "m = m2\n",
    "m.simulate()\n",
    "\n",
    "# identify repartner\n",
    "ones = np.ones(m.par.simN)\n",
    "couple = np.column_stack((ones,m.sim.couple[:,:-1]))\n",
    "single = couple == 0\n",
    "meet_new = (m.sim.draw_meet < m.par.p_meet)\n",
    "meet  = np.logical_and(meet_new, single)\n",
    "o = np.zeros(m.par.simN, dtype=bool)\n",
    "repartner = np.column_stack((o, np.diff(m.sim.couple) == 1))\n",
    "\n",
    "Aw = m.sim.A_own[meet]\n",
    "Ap = m.sim.A_partner[meet]\n",
    "\n",
    "\n",
    "# make a plot\n",
    "fig = plt.figure(figsize=(12,6))\n",
    "ax = fig.add_subplot(1,2,1)\n",
    "ax.matshow(m.par.prob_partner_A_w)\n",
    "ax.set_xlabel('grid_Aw')\n",
    "ax.set_ylabel('grid_Am')\n",
    "ax.invert_yaxis()\n",
    "\n",
    "\n",
    "ax = fig.add_subplot(1,2,2)\n",
    "ax.scatter(Aw, Ap, s=0.1)\n",
    "ax.set_xlabel('Aw')\n",
    "ax.set_ylabel('Am')\n",
    "ax.plot(m.sim.A_own[meet], m.sim.A_own[meet], color='black', linewidth=2);"
   ]
  },
  {
   "cell_type": "markdown",
   "metadata": {},
   "source": [
    "## Simulation"
   ]
  },
  {
   "cell_type": "code",
   "execution_count": null,
   "metadata": {},
   "outputs": [],
   "source": [
    "var_list = ('power','couple', 'Cw_priv', 'Cm_priv', 'C_tot')\n",
    "model_list = ('model 1','model 2')\n",
    "SAVE = False\n",
    "for init_power_idx in (1, 19):\n",
    "    for init_love in (0.0, 0.2): \n",
    "\n",
    "            for i,name in enumerate(model_list):\n",
    "                model = models[name]\n",
    "\n",
    "                # show how starting of in a low bargaining power gradually improves\n",
    "                model.sim.init_power_idx[:] = init_power_idx\n",
    "                model.sim.init_love[:] = init_love \n",
    "                model.simulate()\n",
    "                \n",
    "            for var in var_list:\n",
    "\n",
    "                fig, ax = plt.subplots()\n",
    "                \n",
    "                for i,name in enumerate(model_list):\n",
    "                    model = models[name]\n",
    "\n",
    "                    # pick out couples (if not the share of couples is plotted)\n",
    "                    if var == 'couple':\n",
    "                        nan = 0.0\n",
    "                    else:\n",
    "                        I = model.sim.couple<1\n",
    "                        nan = np.zeros(I.shape)\n",
    "                        nan[I] = np.nan\n",
    "\n",
    "                    # pick relevant variable for couples\n",
    "                    y = getattr(model.sim,var)        \n",
    "                    y = np.nanmean(y + nan,axis=0)\n",
    "\n",
    "                    ax.plot(y,marker=markers[i],linestyle=linestyles[i],linewidth=linewidth,label=model.spec['latexname']);\n",
    "                    ax.set(xlabel='age',ylabel=f'{var}');\n",
    "\n",
    "                plt.legend()\n",
    "\n",
    "                fig_name = f'sim {var} init power{np.round(model.par.grid_power[init_power_idx],2)}_love{init_love}'\n",
    "                plt.title(fig_name)\n",
    "                plt.tight_layout()\n",
    "                if SAVE: plt.savefig(path+fig_name+'.pdf')"
   ]
  },
  {
   "cell_type": "code",
   "execution_count": null,
   "metadata": {},
   "outputs": [],
   "source": [
    "stop"
   ]
  },
  {
   "cell_type": "markdown",
   "metadata": {},
   "source": [
    "### Differences in simulated behavior..."
   ]
  },
  {
   "cell_type": "code",
   "execution_count": null,
   "metadata": {},
   "outputs": [],
   "source": [
    "model1 = models['model 1']\n",
    "par1 = model1.par\n",
    "sol1 = model1.sol\n",
    "sim1 = model1.sim\n",
    "\n",
    "model2 = models['model 2']\n",
    "par2 = model2.par\n",
    "sol2 = model2.sol\n",
    "sim2 = model2.sim\n",
    "\n",
    "init_A = 0.\n",
    "init_love = 0.02\n",
    "init_power_idx = 4\n",
    "init_power = par1.grid_power[init_power_idx]\n",
    "\n",
    "model1.sim.init_A[:] = init_A\n",
    "model1.sim.init_love[:] = init_love\n",
    "model1.sim.init_power_idx[:] = init_power_idx\n",
    "model1.simulate()\n",
    "\n",
    "model2.sim.init_A[:] = init_A\n",
    "model2.sim.init_love[:] = init_love\n",
    "model2.sim.init_power_idx[:] = init_power_idx\n",
    "model2.simulate()\n",
    "\n",
    "Sw1 = sol1.Vw_couple_to_couple-sol1.Vw_couple_to_single[:,np.newaxis, np.newaxis,:]\n",
    "Sm1 = sol1.Vm_couple_to_couple-sol1.Vm_couple_to_single[:,np.newaxis, np.newaxis,:]\n",
    "\n",
    "Sw2 = sol2.Vw_couple_to_couple-sol2.Vw_couple_to_single[:,np.newaxis, np.newaxis,:]\n",
    "Sm2 = sol2.Vm_couple_to_couple-sol2.Vm_couple_to_single[:,np.newaxis, np.newaxis,:]"
   ]
  },
  {
   "cell_type": "code",
   "execution_count": null,
   "metadata": {},
   "outputs": [],
   "source": [
    "# interpolate spousal surplus for sim1\n",
    "simSw1 = np.zeros((par1.simN,par1.simT))\n",
    "simSm1 = np.zeros((par1.simN,par1.simT))\n",
    "for i in range(par1.simN):\n",
    "    for t in range(par1.simT):\n",
    "        A = sim1.A[i,t]\n",
    "        love = sim1.love[i,t]\n",
    "        power = sim1.power[i,t]\n",
    "        simSw1[i,t] = linear_interp.interp_3d(par1.grid_power,par1.grid_love,par1.grid_A,Sw1[t], power, love, A)\n",
    "        simSm1[i,t] = linear_interp.interp_3d(par1.grid_power,par1.grid_love,par1.grid_A,Sm1[t], power, love, A)\n",
    "\n",
    "# interpolate spousal surplus for sim2\n",
    "simSw2 = np.zeros((par2.simN,par2.simT))\n",
    "simSm2 = np.zeros((par2.simN,par2.simT))\n",
    "for i in range(par2.simN):\n",
    "    for t in range(par2.simT):\n",
    "        A = sim2.A[i,t]\n",
    "        love = sim2.love[i,t]\n",
    "        power = sim2.power[i,t]\n",
    "        simSw2[i,t] = linear_interp.interp_3d(par2.grid_power,par2.grid_love,par2.grid_A,Sw2[t], power, love, A)\n",
    "        simSm2[i,t] = linear_interp.interp_3d(par2.grid_power,par2.grid_love,par2.grid_A,Sm2[t], power, love, A)"
   ]
  },
  {
   "cell_type": "code",
   "execution_count": null,
   "metadata": {},
   "outputs": [],
   "source": [
    "A = sim1.A[0,0]\n",
    "power = sim1.power[0,0]\n",
    "\n",
    "sol_power = np.zeros(par1.num_love)\n",
    "for iP in range(par1.num_love):\n",
    "    love = par1.grid_love[iP]\n",
    "    sol_power[iP] = linear_interp.interp_3d(par1.grid_power,par1.grid_love,par1.grid_A,sol1.power[1], power, love, A)"
   ]
  },
  {
   "cell_type": "code",
   "execution_count": null,
   "metadata": {},
   "outputs": [],
   "source": [
    "I1 = np.argsort(sim1.love[:,1])\n",
    "I2 = np.argsort(sim2.love[:,1])\n",
    "\n",
    "plt.plot(sim1.love[I1,1], sim1.power[I1,1], label='update power')\n",
    "plt.plot(sim2.love[I2,1], sim2.power[I2,1], label='interp power')\n",
    "plt.scatter(par1.grid_love, sol_power, color='green', label='solution')\n",
    "\n",
    "# label axes\n",
    "plt.xlabel('love')\n",
    "plt.ylabel('power')\n",
    "plt.legend();"
   ]
  },
  {
   "cell_type": "code",
   "execution_count": null,
   "metadata": {},
   "outputs": [],
   "source": [
    "I1 = np.argsort(sim1.love[:,1])\n",
    "I2 = np.argsort(sim2.love[:,1])\n",
    "\n",
    "\n",
    "plt.plot(sim1.love[I1,1], sim1.power[I1,1], label='update power')\n",
    "plt.plot(sim2.love[I2,1], sim2.power[I2,1], label='interp power')\n",
    "plt.scatter(par1.grid_love, sol_power, color='green', label='solution')\n",
    "\n",
    "# label axes\n",
    "plt.xlabel('love')\n",
    "plt.ylabel('power')\n",
    "plt.legend()\n",
    "\n",
    "# limit x axis\n",
    "plt.xlim([-0.2,-0.05])"
   ]
  },
  {
   "cell_type": "markdown",
   "metadata": {},
   "source": [
    "### Time"
   ]
  },
  {
   "cell_type": "code",
   "execution_count": null,
   "metadata": {},
   "outputs": [],
   "source": [
    "%timeit models['model 1'].simulate()\n",
    "%timeit models['model 2'].simulate()"
   ]
  }
 ],
 "metadata": {
  "kernelspec": {
   "display_name": "Python 3",
   "language": "python",
   "name": "python3"
  },
  "language_info": {
   "codemirror_mode": {
    "name": "ipython",
    "version": 3
   },
   "file_extension": ".py",
   "mimetype": "text/x-python",
   "name": "python",
   "nbconvert_exporter": "python",
   "pygments_lexer": "ipython3",
   "version": "3.11.5"
  }
 },
 "nbformat": 4,
 "nbformat_minor": 4
}
